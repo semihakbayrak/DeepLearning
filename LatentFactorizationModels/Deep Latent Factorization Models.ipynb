{
 "cells": [
  {
   "cell_type": "code",
   "execution_count": 1,
   "metadata": {
    "collapsed": false
   },
   "outputs": [
    {
     "name": "stderr",
     "output_type": "stream",
     "text": [
      "/Users/semihakbayrak/anaconda/lib/python2.7/site-packages/matplotlib/font_manager.py:273: UserWarning: Matplotlib is building the font cache using fc-list. This may take a moment.\n",
      "  warnings.warn('Matplotlib is building the font cache using fc-list. This may take a moment.')\n",
      "Using TensorFlow backend.\n"
     ]
    }
   ],
   "source": [
    "import numpy as np\n",
    "import matplotlib.pyplot as plt\n",
    "from scipy.stats import norm\n",
    "from keras.layers import Input, Dense, Lambda, multiply, concatenate, add\n",
    "from keras.models import Model\n",
    "from keras import backend as K\n",
    "from keras import objectives\n",
    "from keras import optimizers\n",
    "from keras.datasets import mnist\n",
    "import pandas as pd\n",
    "import tensorflow as tf"
   ]
  },
  {
   "cell_type": "code",
   "execution_count": 2,
   "metadata": {
    "collapsed": true
   },
   "outputs": [],
   "source": [
    "# Initialize Keras with Tensorflow session\n",
    "sess = tf.Session()\n",
    "K.set_session(sess)"
   ]
  },
  {
   "cell_type": "code",
   "execution_count": 3,
   "metadata": {
    "collapsed": false
   },
   "outputs": [
    {
     "data": {
      "text/html": [
       "<div>\n",
       "<table border=\"1\" class=\"dataframe\">\n",
       "  <thead>\n",
       "    <tr style=\"text-align: right;\">\n",
       "      <th></th>\n",
       "      <th>user_id</th>\n",
       "      <th>movie_id</th>\n",
       "      <th>rating</th>\n",
       "      <th>timestamp</th>\n",
       "    </tr>\n",
       "  </thead>\n",
       "  <tbody>\n",
       "    <tr>\n",
       "      <th>0</th>\n",
       "      <td>196</td>\n",
       "      <td>242</td>\n",
       "      <td>3</td>\n",
       "      <td>881250949</td>\n",
       "    </tr>\n",
       "    <tr>\n",
       "      <th>1</th>\n",
       "      <td>186</td>\n",
       "      <td>302</td>\n",
       "      <td>3</td>\n",
       "      <td>891717742</td>\n",
       "    </tr>\n",
       "    <tr>\n",
       "      <th>2</th>\n",
       "      <td>22</td>\n",
       "      <td>377</td>\n",
       "      <td>1</td>\n",
       "      <td>878887116</td>\n",
       "    </tr>\n",
       "    <tr>\n",
       "      <th>3</th>\n",
       "      <td>244</td>\n",
       "      <td>51</td>\n",
       "      <td>2</td>\n",
       "      <td>880606923</td>\n",
       "    </tr>\n",
       "    <tr>\n",
       "      <th>4</th>\n",
       "      <td>166</td>\n",
       "      <td>346</td>\n",
       "      <td>1</td>\n",
       "      <td>886397596</td>\n",
       "    </tr>\n",
       "    <tr>\n",
       "      <th>5</th>\n",
       "      <td>298</td>\n",
       "      <td>474</td>\n",
       "      <td>4</td>\n",
       "      <td>884182806</td>\n",
       "    </tr>\n",
       "    <tr>\n",
       "      <th>6</th>\n",
       "      <td>115</td>\n",
       "      <td>265</td>\n",
       "      <td>2</td>\n",
       "      <td>881171488</td>\n",
       "    </tr>\n",
       "    <tr>\n",
       "      <th>7</th>\n",
       "      <td>253</td>\n",
       "      <td>465</td>\n",
       "      <td>5</td>\n",
       "      <td>891628467</td>\n",
       "    </tr>\n",
       "    <tr>\n",
       "      <th>8</th>\n",
       "      <td>305</td>\n",
       "      <td>451</td>\n",
       "      <td>3</td>\n",
       "      <td>886324817</td>\n",
       "    </tr>\n",
       "    <tr>\n",
       "      <th>9</th>\n",
       "      <td>6</td>\n",
       "      <td>86</td>\n",
       "      <td>3</td>\n",
       "      <td>883603013</td>\n",
       "    </tr>\n",
       "    <tr>\n",
       "      <th>10</th>\n",
       "      <td>62</td>\n",
       "      <td>257</td>\n",
       "      <td>2</td>\n",
       "      <td>879372434</td>\n",
       "    </tr>\n",
       "    <tr>\n",
       "      <th>11</th>\n",
       "      <td>286</td>\n",
       "      <td>1014</td>\n",
       "      <td>5</td>\n",
       "      <td>879781125</td>\n",
       "    </tr>\n",
       "    <tr>\n",
       "      <th>12</th>\n",
       "      <td>200</td>\n",
       "      <td>222</td>\n",
       "      <td>5</td>\n",
       "      <td>876042340</td>\n",
       "    </tr>\n",
       "    <tr>\n",
       "      <th>13</th>\n",
       "      <td>210</td>\n",
       "      <td>40</td>\n",
       "      <td>3</td>\n",
       "      <td>891035994</td>\n",
       "    </tr>\n",
       "    <tr>\n",
       "      <th>14</th>\n",
       "      <td>224</td>\n",
       "      <td>29</td>\n",
       "      <td>3</td>\n",
       "      <td>888104457</td>\n",
       "    </tr>\n",
       "    <tr>\n",
       "      <th>15</th>\n",
       "      <td>303</td>\n",
       "      <td>785</td>\n",
       "      <td>3</td>\n",
       "      <td>879485318</td>\n",
       "    </tr>\n",
       "    <tr>\n",
       "      <th>16</th>\n",
       "      <td>122</td>\n",
       "      <td>387</td>\n",
       "      <td>5</td>\n",
       "      <td>879270459</td>\n",
       "    </tr>\n",
       "    <tr>\n",
       "      <th>17</th>\n",
       "      <td>194</td>\n",
       "      <td>274</td>\n",
       "      <td>2</td>\n",
       "      <td>879539794</td>\n",
       "    </tr>\n",
       "    <tr>\n",
       "      <th>18</th>\n",
       "      <td>291</td>\n",
       "      <td>1042</td>\n",
       "      <td>4</td>\n",
       "      <td>874834944</td>\n",
       "    </tr>\n",
       "    <tr>\n",
       "      <th>19</th>\n",
       "      <td>234</td>\n",
       "      <td>1184</td>\n",
       "      <td>2</td>\n",
       "      <td>892079237</td>\n",
       "    </tr>\n",
       "    <tr>\n",
       "      <th>20</th>\n",
       "      <td>119</td>\n",
       "      <td>392</td>\n",
       "      <td>4</td>\n",
       "      <td>886176814</td>\n",
       "    </tr>\n",
       "    <tr>\n",
       "      <th>21</th>\n",
       "      <td>167</td>\n",
       "      <td>486</td>\n",
       "      <td>4</td>\n",
       "      <td>892738452</td>\n",
       "    </tr>\n",
       "    <tr>\n",
       "      <th>22</th>\n",
       "      <td>299</td>\n",
       "      <td>144</td>\n",
       "      <td>4</td>\n",
       "      <td>877881320</td>\n",
       "    </tr>\n",
       "    <tr>\n",
       "      <th>23</th>\n",
       "      <td>291</td>\n",
       "      <td>118</td>\n",
       "      <td>2</td>\n",
       "      <td>874833878</td>\n",
       "    </tr>\n",
       "    <tr>\n",
       "      <th>24</th>\n",
       "      <td>308</td>\n",
       "      <td>1</td>\n",
       "      <td>4</td>\n",
       "      <td>887736532</td>\n",
       "    </tr>\n",
       "    <tr>\n",
       "      <th>25</th>\n",
       "      <td>95</td>\n",
       "      <td>546</td>\n",
       "      <td>2</td>\n",
       "      <td>879196566</td>\n",
       "    </tr>\n",
       "    <tr>\n",
       "      <th>26</th>\n",
       "      <td>38</td>\n",
       "      <td>95</td>\n",
       "      <td>5</td>\n",
       "      <td>892430094</td>\n",
       "    </tr>\n",
       "    <tr>\n",
       "      <th>27</th>\n",
       "      <td>102</td>\n",
       "      <td>768</td>\n",
       "      <td>2</td>\n",
       "      <td>883748450</td>\n",
       "    </tr>\n",
       "    <tr>\n",
       "      <th>28</th>\n",
       "      <td>63</td>\n",
       "      <td>277</td>\n",
       "      <td>4</td>\n",
       "      <td>875747401</td>\n",
       "    </tr>\n",
       "    <tr>\n",
       "      <th>29</th>\n",
       "      <td>160</td>\n",
       "      <td>234</td>\n",
       "      <td>5</td>\n",
       "      <td>876861185</td>\n",
       "    </tr>\n",
       "    <tr>\n",
       "      <th>...</th>\n",
       "      <td>...</td>\n",
       "      <td>...</td>\n",
       "      <td>...</td>\n",
       "      <td>...</td>\n",
       "    </tr>\n",
       "    <tr>\n",
       "      <th>99970</th>\n",
       "      <td>449</td>\n",
       "      <td>120</td>\n",
       "      <td>1</td>\n",
       "      <td>879959573</td>\n",
       "    </tr>\n",
       "    <tr>\n",
       "      <th>99971</th>\n",
       "      <td>661</td>\n",
       "      <td>762</td>\n",
       "      <td>2</td>\n",
       "      <td>876037121</td>\n",
       "    </tr>\n",
       "    <tr>\n",
       "      <th>99972</th>\n",
       "      <td>721</td>\n",
       "      <td>874</td>\n",
       "      <td>3</td>\n",
       "      <td>877137447</td>\n",
       "    </tr>\n",
       "    <tr>\n",
       "      <th>99973</th>\n",
       "      <td>821</td>\n",
       "      <td>151</td>\n",
       "      <td>4</td>\n",
       "      <td>874792889</td>\n",
       "    </tr>\n",
       "    <tr>\n",
       "      <th>99974</th>\n",
       "      <td>764</td>\n",
       "      <td>596</td>\n",
       "      <td>3</td>\n",
       "      <td>876243046</td>\n",
       "    </tr>\n",
       "    <tr>\n",
       "      <th>99975</th>\n",
       "      <td>537</td>\n",
       "      <td>443</td>\n",
       "      <td>3</td>\n",
       "      <td>886031752</td>\n",
       "    </tr>\n",
       "    <tr>\n",
       "      <th>99976</th>\n",
       "      <td>618</td>\n",
       "      <td>628</td>\n",
       "      <td>2</td>\n",
       "      <td>891308019</td>\n",
       "    </tr>\n",
       "    <tr>\n",
       "      <th>99977</th>\n",
       "      <td>487</td>\n",
       "      <td>291</td>\n",
       "      <td>3</td>\n",
       "      <td>883445079</td>\n",
       "    </tr>\n",
       "    <tr>\n",
       "      <th>99978</th>\n",
       "      <td>113</td>\n",
       "      <td>975</td>\n",
       "      <td>5</td>\n",
       "      <td>875936424</td>\n",
       "    </tr>\n",
       "    <tr>\n",
       "      <th>99979</th>\n",
       "      <td>943</td>\n",
       "      <td>391</td>\n",
       "      <td>2</td>\n",
       "      <td>888640291</td>\n",
       "    </tr>\n",
       "    <tr>\n",
       "      <th>99980</th>\n",
       "      <td>864</td>\n",
       "      <td>685</td>\n",
       "      <td>4</td>\n",
       "      <td>888891900</td>\n",
       "    </tr>\n",
       "    <tr>\n",
       "      <th>99981</th>\n",
       "      <td>750</td>\n",
       "      <td>323</td>\n",
       "      <td>3</td>\n",
       "      <td>879445877</td>\n",
       "    </tr>\n",
       "    <tr>\n",
       "      <th>99982</th>\n",
       "      <td>279</td>\n",
       "      <td>64</td>\n",
       "      <td>1</td>\n",
       "      <td>875308510</td>\n",
       "    </tr>\n",
       "    <tr>\n",
       "      <th>99983</th>\n",
       "      <td>646</td>\n",
       "      <td>750</td>\n",
       "      <td>3</td>\n",
       "      <td>888528902</td>\n",
       "    </tr>\n",
       "    <tr>\n",
       "      <th>99984</th>\n",
       "      <td>654</td>\n",
       "      <td>370</td>\n",
       "      <td>2</td>\n",
       "      <td>887863914</td>\n",
       "    </tr>\n",
       "    <tr>\n",
       "      <th>99985</th>\n",
       "      <td>617</td>\n",
       "      <td>582</td>\n",
       "      <td>4</td>\n",
       "      <td>883789294</td>\n",
       "    </tr>\n",
       "    <tr>\n",
       "      <th>99986</th>\n",
       "      <td>913</td>\n",
       "      <td>690</td>\n",
       "      <td>3</td>\n",
       "      <td>880824288</td>\n",
       "    </tr>\n",
       "    <tr>\n",
       "      <th>99987</th>\n",
       "      <td>660</td>\n",
       "      <td>229</td>\n",
       "      <td>2</td>\n",
       "      <td>891406212</td>\n",
       "    </tr>\n",
       "    <tr>\n",
       "      <th>99988</th>\n",
       "      <td>421</td>\n",
       "      <td>498</td>\n",
       "      <td>4</td>\n",
       "      <td>892241344</td>\n",
       "    </tr>\n",
       "    <tr>\n",
       "      <th>99989</th>\n",
       "      <td>495</td>\n",
       "      <td>1091</td>\n",
       "      <td>4</td>\n",
       "      <td>888637503</td>\n",
       "    </tr>\n",
       "    <tr>\n",
       "      <th>99990</th>\n",
       "      <td>806</td>\n",
       "      <td>421</td>\n",
       "      <td>4</td>\n",
       "      <td>882388897</td>\n",
       "    </tr>\n",
       "    <tr>\n",
       "      <th>99991</th>\n",
       "      <td>676</td>\n",
       "      <td>538</td>\n",
       "      <td>4</td>\n",
       "      <td>892685437</td>\n",
       "    </tr>\n",
       "    <tr>\n",
       "      <th>99992</th>\n",
       "      <td>721</td>\n",
       "      <td>262</td>\n",
       "      <td>3</td>\n",
       "      <td>877137285</td>\n",
       "    </tr>\n",
       "    <tr>\n",
       "      <th>99993</th>\n",
       "      <td>913</td>\n",
       "      <td>209</td>\n",
       "      <td>2</td>\n",
       "      <td>881367150</td>\n",
       "    </tr>\n",
       "    <tr>\n",
       "      <th>99994</th>\n",
       "      <td>378</td>\n",
       "      <td>78</td>\n",
       "      <td>3</td>\n",
       "      <td>880056976</td>\n",
       "    </tr>\n",
       "    <tr>\n",
       "      <th>99995</th>\n",
       "      <td>880</td>\n",
       "      <td>476</td>\n",
       "      <td>3</td>\n",
       "      <td>880175444</td>\n",
       "    </tr>\n",
       "    <tr>\n",
       "      <th>99996</th>\n",
       "      <td>716</td>\n",
       "      <td>204</td>\n",
       "      <td>5</td>\n",
       "      <td>879795543</td>\n",
       "    </tr>\n",
       "    <tr>\n",
       "      <th>99997</th>\n",
       "      <td>276</td>\n",
       "      <td>1090</td>\n",
       "      <td>1</td>\n",
       "      <td>874795795</td>\n",
       "    </tr>\n",
       "    <tr>\n",
       "      <th>99998</th>\n",
       "      <td>13</td>\n",
       "      <td>225</td>\n",
       "      <td>2</td>\n",
       "      <td>882399156</td>\n",
       "    </tr>\n",
       "    <tr>\n",
       "      <th>99999</th>\n",
       "      <td>12</td>\n",
       "      <td>203</td>\n",
       "      <td>3</td>\n",
       "      <td>879959583</td>\n",
       "    </tr>\n",
       "  </tbody>\n",
       "</table>\n",
       "<p>100000 rows × 4 columns</p>\n",
       "</div>"
      ],
      "text/plain": [
       "       user_id  movie_id  rating  timestamp\n",
       "0          196       242       3  881250949\n",
       "1          186       302       3  891717742\n",
       "2           22       377       1  878887116\n",
       "3          244        51       2  880606923\n",
       "4          166       346       1  886397596\n",
       "5          298       474       4  884182806\n",
       "6          115       265       2  881171488\n",
       "7          253       465       5  891628467\n",
       "8          305       451       3  886324817\n",
       "9            6        86       3  883603013\n",
       "10          62       257       2  879372434\n",
       "11         286      1014       5  879781125\n",
       "12         200       222       5  876042340\n",
       "13         210        40       3  891035994\n",
       "14         224        29       3  888104457\n",
       "15         303       785       3  879485318\n",
       "16         122       387       5  879270459\n",
       "17         194       274       2  879539794\n",
       "18         291      1042       4  874834944\n",
       "19         234      1184       2  892079237\n",
       "20         119       392       4  886176814\n",
       "21         167       486       4  892738452\n",
       "22         299       144       4  877881320\n",
       "23         291       118       2  874833878\n",
       "24         308         1       4  887736532\n",
       "25          95       546       2  879196566\n",
       "26          38        95       5  892430094\n",
       "27         102       768       2  883748450\n",
       "28          63       277       4  875747401\n",
       "29         160       234       5  876861185\n",
       "...        ...       ...     ...        ...\n",
       "99970      449       120       1  879959573\n",
       "99971      661       762       2  876037121\n",
       "99972      721       874       3  877137447\n",
       "99973      821       151       4  874792889\n",
       "99974      764       596       3  876243046\n",
       "99975      537       443       3  886031752\n",
       "99976      618       628       2  891308019\n",
       "99977      487       291       3  883445079\n",
       "99978      113       975       5  875936424\n",
       "99979      943       391       2  888640291\n",
       "99980      864       685       4  888891900\n",
       "99981      750       323       3  879445877\n",
       "99982      279        64       1  875308510\n",
       "99983      646       750       3  888528902\n",
       "99984      654       370       2  887863914\n",
       "99985      617       582       4  883789294\n",
       "99986      913       690       3  880824288\n",
       "99987      660       229       2  891406212\n",
       "99988      421       498       4  892241344\n",
       "99989      495      1091       4  888637503\n",
       "99990      806       421       4  882388897\n",
       "99991      676       538       4  892685437\n",
       "99992      721       262       3  877137285\n",
       "99993      913       209       2  881367150\n",
       "99994      378        78       3  880056976\n",
       "99995      880       476       3  880175444\n",
       "99996      716       204       5  879795543\n",
       "99997      276      1090       1  874795795\n",
       "99998       13       225       2  882399156\n",
       "99999       12       203       3  879959583\n",
       "\n",
       "[100000 rows x 4 columns]"
      ]
     },
     "execution_count": 3,
     "metadata": {},
     "output_type": "execute_result"
    }
   ],
   "source": [
    "rnames = ['user_id', 'movie_id', 'rating', 'timestamp']\n",
    "ratings = pd.read_table('u.data', sep='\\t', header=None, names=rnames)\n",
    "ratings"
   ]
  },
  {
   "cell_type": "markdown",
   "metadata": {},
   "source": [
    "# Gaussian Link Function"
   ]
  },
  {
   "cell_type": "code",
   "execution_count": 4,
   "metadata": {
    "collapsed": false
   },
   "outputs": [
    {
     "name": "stdout",
     "output_type": "stream",
     "text": [
      "[[  5.   4.  nan ...,   5.  nan  nan]\n",
      " [  3.  nan  nan ...,  nan  nan   5.]\n",
      " [  4.  nan  nan ...,  nan  nan  nan]\n",
      " ..., \n",
      " [ nan  nan  nan ...,  nan  nan  nan]\n",
      " [ nan  nan  nan ...,  nan  nan  nan]\n",
      " [ nan  nan  nan ...,  nan  nan  nan]]\n"
     ]
    }
   ],
   "source": [
    "M = max(ratings['movie_id']) #Number of rows\n",
    "N = max(ratings['user_id']) #Number of columns\n",
    "\n",
    "R = np.nan*np.ones((M,N)) #datamatrix\n",
    "\n",
    "for k in range(len(ratings)):\n",
    "    i = ratings['movie_id'][k] - 1\n",
    "    j = ratings['user_id'][k] - 1\n",
    "    #transform original ratings to binary ratings\n",
    "    r = ratings['rating'][k]\n",
    "    R[i,j] = r\n",
    "\n",
    "print R"
   ]
  },
  {
   "cell_type": "code",
   "execution_count": 5,
   "metadata": {
    "collapsed": false
   },
   "outputs": [
    {
     "data": {
      "image/png": "[encoded data removed]",
      "text/plain": [
       "<matplotlib.figure.Figure at 0x1205f0950>"
      ]
     },
     "metadata": {},
     "output_type": "display_data"
    }
   ],
   "source": [
    "Data = R[3:20,5:16] #Sample from original data matrix\n",
    "\n",
    "plt.imshow(Data, interpolation='nearest',vmax=5,vmin=1)\n",
    "plt.colorbar()\n",
    "plt.set_cmap('jet')\n",
    "plt.xlabel('Users')\n",
    "plt.ylabel('Movies')\n",
    "plt.show()"
   ]
  },
  {
   "cell_type": "code",
   "execution_count": 6,
   "metadata": {
    "collapsed": true
   },
   "outputs": [],
   "source": [
    "#batch_size = len(ratings)\n",
    "batch_size = 50\n",
    "movie_in_dim = N\n",
    "user_in_dim = M\n",
    "latent_dim = 20\n",
    "intermediate_dim = 125\n",
    "semi_final_dim = 40\n",
    "final_dim = 1\n",
    "nb_epoch = 10\n",
    "epsilon_std = 1.0"
   ]
  },
  {
   "cell_type": "code",
   "execution_count": 7,
   "metadata": {
    "collapsed": true
   },
   "outputs": [],
   "source": [
    "#encoder\n",
    "x_m = Input(batch_shape=(batch_size, movie_in_dim))\n",
    "x_u = Input(batch_shape=(batch_size, user_in_dim))\n",
    "z_mean_m = Dense(latent_dim, activation='tanh')(x_m)\n",
    "z_log_var_m = Dense(latent_dim, activation='tanh')(x_m)\n",
    "z_mean_u = Dense(latent_dim, activation='tanh')(x_u)\n",
    "z_log_var_u = Dense(latent_dim, activation='tanh')(x_u)"
   ]
  },
  {
   "cell_type": "code",
   "execution_count": 8,
   "metadata": {
    "collapsed": true
   },
   "outputs": [],
   "source": [
    "def sampling(args):\n",
    "    z_mean, z_log_var = args\n",
    "    epsilon = K.random_normal(shape=(batch_size, latent_dim), mean=0.)\n",
    "    return z_mean + K.exp(z_log_var / 2) * epsilon\n",
    "\n",
    "z_m = Lambda(sampling, output_shape=(latent_dim,))([z_mean_m, z_log_var_m])\n",
    "z_u = Lambda(sampling, output_shape=(latent_dim,))([z_mean_u, z_log_var_u])"
   ]
  },
  {
   "cell_type": "code",
   "execution_count": 9,
   "metadata": {
    "collapsed": false
   },
   "outputs": [
    {
     "name": "stdout",
     "output_type": "stream",
     "text": [
      "Tensor(\"lambda_3/Mul:0\", shape=(50, 20), dtype=float32)\n",
      "Tensor(\"dense_6/BiasAdd:0\", shape=(50, 1), dtype=float32)\n"
     ]
    }
   ],
   "source": [
    "#decoder\n",
    "def inner_mult(args):\n",
    "    z_m,z_u = args\n",
    "    return tf.multiply(z_m,z_u)\n",
    "    \n",
    "z = Lambda(inner_mult,output_shape=(latent_dim,))([z_m, z_u])\n",
    "print z\n",
    "\n",
    "decoder_h = Dense(semi_final_dim, activation='tanh')\n",
    "decoder_mean = Dense(final_dim)\n",
    "h_decoded = decoder_h(z)\n",
    "x_decoded_mean = decoder_mean(h_decoded)\n",
    "print x_decoded_mean"
   ]
  },
  {
   "cell_type": "code",
   "execution_count": 10,
   "metadata": {
    "collapsed": true
   },
   "outputs": [],
   "source": [
    "#loss\n",
    "def vae_loss(y, x_decoded_mean):\n",
    "    xent_loss = objectives.mean_squared_error(y, x_decoded_mean)\n",
    "    kl_loss = - 0.5 * K.mean(1 + z_log_var_m - K.square(z_mean_m) - K.exp(z_log_var_m), axis=-1) - 0.5 * K.mean(1 + z_log_var_u - K.square(z_mean_u) - K.exp(z_log_var_u), axis=-1)\n",
    "    return xent_loss + kl_loss\n",
    "\n",
    "vae = Model([x_m,x_u], x_decoded_mean)\n",
    "vae.compile(optimizer='rmsprop', loss=vae_loss)"
   ]
  },
  {
   "cell_type": "code",
   "execution_count": 11,
   "metadata": {
    "collapsed": false
   },
   "outputs": [
    {
     "name": "stdout",
     "output_type": "stream",
     "text": [
      "[[ 5.  4.  0. ...,  5.  0.  0.]\n",
      " [ 3.  0.  0. ...,  0.  0.  5.]\n",
      " [ 4.  0.  0. ...,  0.  0.  0.]\n",
      " ..., \n",
      " [ 0.  0.  0. ...,  0.  0.  0.]\n",
      " [ 0.  0.  0. ...,  0.  0.  0.]\n",
      " [ 0.  0.  0. ...,  0.  0.  0.]]\n"
     ]
    }
   ],
   "source": [
    "X = np.zeros((M,N)) #datamatrix\n",
    "\n",
    "for k in range(len(ratings)):\n",
    "    i = ratings['movie_id'][k] - 1\n",
    "    j = ratings['user_id'][k] - 1\n",
    "    #transform original ratings to binary ratings\n",
    "    r = ratings['rating'][k]\n",
    "    X[i,j] = r\n",
    "\n",
    "print X"
   ]
  },
  {
   "cell_type": "code",
   "execution_count": 12,
   "metadata": {
    "collapsed": false
   },
   "outputs": [
    {
     "name": "stdout",
     "output_type": "stream",
     "text": [
      "[[ 5.  5.  0. ...,  0.  0.  0.]\n",
      " [ 0.  5.  2. ...,  0.  0.  0.]\n",
      " [ 0.  0.  0. ...,  0.  0.  0.]\n",
      " ..., \n",
      " [ 0.  0.  0. ...,  0.  0.  0.]\n",
      " [ 2.  0.  0. ...,  0.  0.  0.]\n",
      " [ 4.  0.  0. ...,  0.  0.  0.]]\n",
      "[[ 0.  0.  0. ...,  0.  0.  0.]\n",
      " [ 0.  0.  0. ...,  0.  0.  0.]\n",
      " [ 0.  2.  0. ...,  0.  0.  0.]\n",
      " ..., \n",
      " [ 5.  4.  3. ...,  0.  0.  0.]\n",
      " [ 3.  3.  0. ...,  0.  0.  0.]\n",
      " [ 0.  0.  0. ...,  0.  0.  0.]]\n",
      "[[ 3.]\n",
      " [ 3.]\n",
      " [ 1.]\n",
      " ..., \n",
      " [ 1.]\n",
      " [ 2.]\n",
      " [ 3.]]\n"
     ]
    }
   ],
   "source": [
    "X_m = np.zeros((len(ratings),N)) #datamatrix\n",
    "X_u = np.zeros((len(ratings),M)) #datamatrix\n",
    "y = np.zeros((len(ratings),1))\n",
    "\n",
    "for k in range(len(ratings)):\n",
    "    i = ratings['movie_id'][k] - 1\n",
    "    j = ratings['user_id'][k] - 1\n",
    "    #transform original ratings to binary ratings\n",
    "    r = ratings['rating'][k]\n",
    "    #X[i,j] = r\n",
    "    X_m[k] = X[i,:]\n",
    "    X_u[k] = X[:,j]\n",
    "    y[k] = r\n",
    "\n",
    "print X_m\n",
    "print X_u\n",
    "print y"
   ]
  },
  {
   "cell_type": "code",
   "execution_count": 13,
   "metadata": {
    "collapsed": false
   },
   "outputs": [
    {
     "name": "stderr",
     "output_type": "stream",
     "text": [
      "/Users/semihakbayrak/anaconda/lib/python2.7/site-packages/ipykernel/__main__.py:5: UserWarning: The `nb_epoch` argument in `fit` has been renamed `epochs`.\n"
     ]
    },
    {
     "name": "stdout",
     "output_type": "stream",
     "text": [
      "Epoch 1/10\n",
      "15s - loss: 2.3323\n",
      "Epoch 2/10\n",
      "11s - loss: 1.8497\n",
      "Epoch 3/10\n",
      "11s - loss: 1.6542\n",
      "Epoch 4/10\n",
      "11s - loss: 1.5775\n",
      "Epoch 5/10\n",
      "10s - loss: 1.5352\n",
      "Epoch 6/10\n",
      "10s - loss: 1.5136\n",
      "Epoch 7/10\n",
      "10s - loss: 1.5025\n",
      "Epoch 8/10\n",
      "10s - loss: 1.4889\n",
      "Epoch 9/10\n",
      "10s - loss: 1.4802\n",
      "Epoch 10/10\n",
      "10s - loss: 1.4744\n"
     ]
    },
    {
     "data": {
      "text/plain": [
       "<keras.callbacks.History at 0x12060a390>"
      ]
     },
     "execution_count": 13,
     "metadata": {},
     "output_type": "execute_result"
    }
   ],
   "source": [
    "vae.fit([X_m,X_u], y,\n",
    "        shuffle=True,\n",
    "        nb_epoch=nb_epoch,\n",
    "        batch_size=batch_size,\n",
    "        validation_data=None,verbose=2)"
   ]
  },
  {
   "cell_type": "code",
   "execution_count": 14,
   "metadata": {
    "collapsed": false
   },
   "outputs": [
    {
     "data": {
      "image/png": "[encoded data removed]",
      "text/plain": [
       "<matplotlib.figure.Figure at 0x1a36fa8d0>"
      ]
     },
     "metadata": {},
     "output_type": "display_data"
    }
   ],
   "source": [
    "encoder_u = Model(x_u, z_mean_u)\n",
    "encoder_m = Model(x_m, z_mean_m)\n",
    "\n",
    "x_test_encoded_u = encoder_u.predict(X_u, batch_size=batch_size)\n",
    "x_test_encoded_m = encoder_m.predict(X_m, batch_size=batch_size)\n",
    "decoder_input = Input(shape=(latent_dim,))\n",
    "_h_decoded = decoder_h(decoder_input)\n",
    "_x_decoded_mean = decoder_mean(_h_decoded)\n",
    "generator = Model(decoder_input, _x_decoded_mean)\n",
    "\n",
    "Data_show = R[3:20,5:16]\n",
    "\n",
    "for i in range(17):\n",
    "    for j in range(11):\n",
    "        if np.isnan(Data_show[i,j]):\n",
    "            x_decoded = np.multiply(x_test_encoded_m[i+3],x_test_encoded_u[j+5])\n",
    "            x_decoded = x_decoded.reshape(1,latent_dim)\n",
    "            Data_show[i,j] = generator.predict(x_decoded)\n",
    "\n",
    "plt.imshow(R[3:20,5:16], interpolation='nearest',vmax=5,vmin=1)\n",
    "plt.colorbar()\n",
    "plt.set_cmap('jet')\n",
    "plt.xlabel('Users')\n",
    "plt.ylabel('Movies')\n",
    "plt.show()"
   ]
  },
  {
   "cell_type": "markdown",
   "metadata": {},
   "source": [
    "# Poisson Link Function"
   ]
  },
  {
   "cell_type": "code",
   "execution_count": 15,
   "metadata": {
    "collapsed": false
   },
   "outputs": [
    {
     "name": "stdout",
     "output_type": "stream",
     "text": [
      "[[  5.   4.  nan ...,   5.  nan  nan]\n",
      " [  3.  nan  nan ...,  nan  nan   5.]\n",
      " [  4.  nan  nan ...,  nan  nan  nan]\n",
      " ..., \n",
      " [ nan  nan  nan ...,  nan  nan  nan]\n",
      " [ nan  nan  nan ...,  nan  nan  nan]\n",
      " [ nan  nan  nan ...,  nan  nan  nan]]\n"
     ]
    }
   ],
   "source": [
    "M = max(ratings['movie_id']) #Number of rows\n",
    "N = max(ratings['user_id']) #Number of columns\n",
    "\n",
    "R = np.nan*np.ones((M,N)) #datamatrix\n",
    "\n",
    "for k in range(len(ratings)):\n",
    "    i = ratings['movie_id'][k] - 1\n",
    "    j = ratings['user_id'][k] - 1\n",
    "    #transform original ratings to binary ratings\n",
    "    r = ratings['rating'][k]\n",
    "    R[i,j] = r\n",
    "\n",
    "print R"
   ]
  },
  {
   "cell_type": "code",
   "execution_count": 16,
   "metadata": {
    "collapsed": true
   },
   "outputs": [],
   "source": [
    "#batch_size = len(ratings)\n",
    "batch_size = 50\n",
    "movie_in_dim = N\n",
    "user_in_dim = M\n",
    "latent_dim = 20\n",
    "intermediate_dim = 125\n",
    "semi_final_dim = 40\n",
    "final_dim = 1\n",
    "nb_epoch = 10\n",
    "epsilon_std = 1.0"
   ]
  },
  {
   "cell_type": "code",
   "execution_count": 17,
   "metadata": {
    "collapsed": true
   },
   "outputs": [],
   "source": [
    "#encoder\n",
    "x_m = Input(batch_shape=(batch_size, movie_in_dim))\n",
    "x_u = Input(batch_shape=(batch_size, user_in_dim))\n",
    "z_mean_m = Dense(latent_dim, activation='tanh')(x_m)\n",
    "z_log_var_m = Dense(latent_dim, activation='tanh')(x_m)\n",
    "z_mean_u = Dense(latent_dim, activation='tanh')(x_u)\n",
    "z_log_var_u = Dense(latent_dim, activation='tanh')(x_u)"
   ]
  },
  {
   "cell_type": "code",
   "execution_count": 18,
   "metadata": {
    "collapsed": true
   },
   "outputs": [],
   "source": [
    "def sampling(args):\n",
    "    z_mean, z_log_var = args\n",
    "    epsilon = K.random_normal(shape=(batch_size, latent_dim), mean=0.)\n",
    "    return z_mean + K.exp(z_log_var / 2) * epsilon\n",
    "\n",
    "z_m = Lambda(sampling, output_shape=(latent_dim,))([z_mean_m, z_log_var_m])\n",
    "z_u = Lambda(sampling, output_shape=(latent_dim,))([z_mean_u, z_log_var_u])"
   ]
  },
  {
   "cell_type": "code",
   "execution_count": 19,
   "metadata": {
    "collapsed": false
   },
   "outputs": [
    {
     "name": "stdout",
     "output_type": "stream",
     "text": [
      "Tensor(\"lambda_6/Mul:0\", shape=(50, 20), dtype=float32)\n",
      "Tensor(\"dense_12/Exp:0\", shape=(50, 1), dtype=float32)\n"
     ]
    }
   ],
   "source": [
    "#decoder\n",
    "def inner_mult(args):\n",
    "    z_m,z_u = args\n",
    "    return tf.multiply(z_m,z_u)\n",
    "    \n",
    "z = Lambda(inner_mult,output_shape=(latent_dim,))([z_m, z_u])\n",
    "print z\n",
    "\n",
    "decoder_h = Dense(semi_final_dim, activation='tanh')\n",
    "decoder_mean = Dense(final_dim, activation=tf.exp)\n",
    "h_decoded = decoder_h(z)\n",
    "x_decoded_mean = decoder_mean(h_decoded)\n",
    "print x_decoded_mean"
   ]
  },
  {
   "cell_type": "code",
   "execution_count": 20,
   "metadata": {
    "collapsed": true
   },
   "outputs": [],
   "source": [
    "#loss\n",
    "def vae_loss(y, x_decoded_mean):\n",
    "    xent_loss = objectives.poisson(y, x_decoded_mean)\n",
    "    kl_loss = - 0.5 * K.mean(1 + z_log_var_m - K.square(z_mean_m) - K.exp(z_log_var_m), axis=-1) - 0.5 * K.mean(1 + z_log_var_u - K.square(z_mean_u) - K.exp(z_log_var_u), axis=-1)\n",
    "    return xent_loss  + 0*kl_loss\n",
    "    #varyans = 50\n",
    "    #kl_loss = - 0.5 * K.mean(1 + z_log_var_m - np.log(varyans) - (K.square(z_mean_m))*(1.0/varyans) - K.exp(z_log_var_m)*(1.0/varyans), axis=-1) - 0.5 * K.mean(1 + z_log_var_u - np.log(varyans) - (K.square(z_mean_u))*(1.0/varyans) - K.exp(z_log_var_u)*(1.0/varyans), axis=-1)\n",
    "    #return xent_loss  + kl_loss\n",
    "\n",
    "vae = Model([x_m,x_u], x_decoded_mean)\n",
    "vae.compile(optimizer='rmsprop', loss=vae_loss)"
   ]
  },
  {
   "cell_type": "code",
   "execution_count": 21,
   "metadata": {
    "collapsed": true
   },
   "outputs": [],
   "source": [
    "X = np.zeros((M,N)) #datamatrix\n",
    "\n",
    "for k in range(len(ratings)):\n",
    "    i = ratings['movie_id'][k] - 1\n",
    "    j = ratings['user_id'][k] - 1\n",
    "    #transform original ratings to binary ratings\n",
    "    r = ratings['rating'][k]\n",
    "    X[i,j] = r"
   ]
  },
  {
   "cell_type": "code",
   "execution_count": 22,
   "metadata": {
    "collapsed": true
   },
   "outputs": [],
   "source": [
    "X_m = np.zeros((len(ratings),N)) #datamatrix\n",
    "X_u = np.zeros((len(ratings),M)) #datamatrix\n",
    "y = np.zeros((len(ratings),1))\n",
    "\n",
    "for k in range(len(ratings)):\n",
    "    i = ratings['movie_id'][k] - 1\n",
    "    j = ratings['user_id'][k] - 1\n",
    "    #transform original ratings to binary ratings\n",
    "    r = ratings['rating'][k]\n",
    "    #X[i,j] = r\n",
    "    X_m[k] = X[i,:]\n",
    "    X_u[k] = X[:,j]\n",
    "    y[k] = r"
   ]
  },
  {
   "cell_type": "code",
   "execution_count": 23,
   "metadata": {
    "collapsed": false
   },
   "outputs": [
    {
     "name": "stderr",
     "output_type": "stream",
     "text": [
      "/Users/semihakbayrak/anaconda/lib/python2.7/site-packages/ipykernel/__main__.py:5: UserWarning: The `nb_epoch` argument in `fit` has been renamed `epochs`.\n"
     ]
    },
    {
     "name": "stdout",
     "output_type": "stream",
     "text": [
      "Epoch 1/10\n",
      "16s - loss: -9.0005e-01\n",
      "Epoch 2/10\n",
      "15s - loss: -9.5267e-01\n",
      "Epoch 3/10\n",
      "13s - loss: -9.6010e-01\n",
      "Epoch 4/10\n",
      "13s - loss: -9.6477e-01\n",
      "Epoch 5/10\n",
      "14s - loss: -9.6804e-01\n",
      "Epoch 6/10\n",
      "12s - loss: -9.7009e-01\n",
      "Epoch 7/10\n",
      "10s - loss: -9.7177e-01\n",
      "Epoch 8/10\n",
      "11s - loss: -9.7267e-01\n",
      "Epoch 9/10\n",
      "10s - loss: -9.7383e-01\n",
      "Epoch 10/10\n",
      "11s - loss: -9.7526e-01\n"
     ]
    },
    {
     "data": {
      "text/plain": [
       "<keras.callbacks.History at 0x1260a8690>"
      ]
     },
     "execution_count": 23,
     "metadata": {},
     "output_type": "execute_result"
    }
   ],
   "source": [
    "vae.fit([X_m,X_u], y,\n",
    "        shuffle=True,\n",
    "        nb_epoch=nb_epoch,\n",
    "        batch_size=batch_size,\n",
    "        validation_data=None,verbose=2)"
   ]
  },
  {
   "cell_type": "code",
   "execution_count": 24,
   "metadata": {
    "collapsed": false
   },
   "outputs": [
    {
     "data": {
      "image/png": "[encoded data removed]",
      "text/plain": [
       "<matplotlib.figure.Figure at 0x12589fd10>"
      ]
     },
     "metadata": {},
     "output_type": "display_data"
    }
   ],
   "source": [
    "encoder_u = Model(x_u, z_mean_u)\n",
    "encoder_m = Model(x_m, z_mean_m)\n",
    "\n",
    "x_test_encoded_u = encoder_u.predict(X_u, batch_size=batch_size)\n",
    "x_test_encoded_m = encoder_m.predict(X_m, batch_size=batch_size)\n",
    "decoder_input = Input(shape=(latent_dim,))\n",
    "_h_decoded = decoder_h(decoder_input)\n",
    "_x_decoded_mean = decoder_mean(_h_decoded)\n",
    "generator = Model(decoder_input, _x_decoded_mean)\n",
    "\n",
    "Data_show = R[3:20,5:16] #Sample from original data matrix\n",
    "\n",
    "for i in range(17):\n",
    "    for j in range(11):\n",
    "        if np.isnan(Data_show[i,j]):\n",
    "            x_decoded = np.multiply(x_test_encoded_m[i+3],x_test_encoded_u[j+5])\n",
    "            x_decoded = x_decoded.reshape(1,latent_dim)\n",
    "            Data_show[i,j] = generator.predict(x_decoded)\n",
    "\n",
    "plt.imshow(R[3:20,5:16], interpolation='nearest',vmax=5,vmin=1)\n",
    "plt.colorbar()\n",
    "plt.set_cmap('jet')\n",
    "plt.xlabel('Users')\n",
    "plt.ylabel('Movies')\n",
    "plt.show()"
   ]
  },
  {
   "cell_type": "markdown",
   "metadata": {},
   "source": [
    "# Bernoulli Link Function"
   ]
  },
  {
   "cell_type": "code",
   "execution_count": 25,
   "metadata": {
    "collapsed": false
   },
   "outputs": [
    {
     "name": "stdout",
     "output_type": "stream",
     "text": [
      "[[  1.   1.  nan ...,   1.  nan  nan]\n",
      " [  0.  nan  nan ...,  nan  nan   1.]\n",
      " [  1.  nan  nan ...,  nan  nan  nan]\n",
      " ..., \n",
      " [ nan  nan  nan ...,  nan  nan  nan]\n",
      " [ nan  nan  nan ...,  nan  nan  nan]\n",
      " [ nan  nan  nan ...,  nan  nan  nan]]\n"
     ]
    }
   ],
   "source": [
    "M = max(ratings['movie_id']) #Number of rows\n",
    "N = max(ratings['user_id']) #Number of columns\n",
    "\n",
    "R = np.nan*np.ones((M,N)) #datamatrix\n",
    "\n",
    "for k in range(len(ratings)):\n",
    "    i = ratings['movie_id'][k] - 1\n",
    "    j = ratings['user_id'][k] - 1\n",
    "    #transform original ratings to binary ratings\n",
    "    r = ratings['rating'][k]\n",
    "    if r > 3:\n",
    "        R[i,j] = 1\n",
    "    else:\n",
    "        R[i,j] = 0\n",
    "\n",
    "print R"
   ]
  },
  {
   "cell_type": "code",
   "execution_count": 26,
   "metadata": {
    "collapsed": false
   },
   "outputs": [
    {
     "data": {
      "image/png": "[encoded data removed]",
      "text/plain": [
       "<matplotlib.figure.Figure at 0x12691ed10>"
      ]
     },
     "metadata": {},
     "output_type": "display_data"
    }
   ],
   "source": [
    "Data = R[3:20,5:16] #Sample from original data matrix\n",
    "\n",
    "plt.imshow(Data, interpolation='nearest',vmax=1,vmin=0)\n",
    "plt.colorbar()\n",
    "plt.set_cmap('jet')\n",
    "plt.xlabel('Users')\n",
    "plt.ylabel('Movies')\n",
    "plt.show()"
   ]
  },
  {
   "cell_type": "code",
   "execution_count": 27,
   "metadata": {
    "collapsed": true
   },
   "outputs": [],
   "source": [
    "#batch_size = len(ratings)\n",
    "batch_size = 50\n",
    "movie_in_dim = N\n",
    "user_in_dim = M\n",
    "latent_dim = 20\n",
    "intermediate_dim = 125\n",
    "semi_final_dim = 40\n",
    "final_dim = 1\n",
    "nb_epoch = 10\n",
    "epsilon_std = 1.0"
   ]
  },
  {
   "cell_type": "code",
   "execution_count": 28,
   "metadata": {
    "collapsed": true
   },
   "outputs": [],
   "source": [
    "#encoder\n",
    "x_m = Input(batch_shape=(batch_size, movie_in_dim))\n",
    "x_u = Input(batch_shape=(batch_size, user_in_dim))\n",
    "z_mean_m = Dense(latent_dim, activation='tanh')(x_m)\n",
    "z_log_var_m = Dense(latent_dim, activation='tanh')(x_m)\n",
    "z_mean_u = Dense(latent_dim, activation='tanh')(x_u)\n",
    "z_log_var_u = Dense(latent_dim, activation='tanh')(x_u)"
   ]
  },
  {
   "cell_type": "code",
   "execution_count": 29,
   "metadata": {
    "collapsed": true
   },
   "outputs": [],
   "source": [
    "def sampling(args):\n",
    "    z_mean, z_log_var = args\n",
    "    epsilon = K.random_normal(shape=(batch_size, latent_dim), mean=0.)\n",
    "    return z_mean + K.exp(z_log_var / 2) * epsilon\n",
    "\n",
    "z_m = Lambda(sampling, output_shape=(latent_dim,))([z_mean_m, z_log_var_m])\n",
    "z_u = Lambda(sampling, output_shape=(latent_dim,))([z_mean_u, z_log_var_u])"
   ]
  },
  {
   "cell_type": "code",
   "execution_count": 30,
   "metadata": {
    "collapsed": false
   },
   "outputs": [
    {
     "name": "stdout",
     "output_type": "stream",
     "text": [
      "Tensor(\"lambda_9/Mul:0\", shape=(50, 20), dtype=float32)\n",
      "Tensor(\"dense_18/Sigmoid:0\", shape=(50, 1), dtype=float32)\n"
     ]
    }
   ],
   "source": [
    "#decoder\n",
    "def inner_mult(args):\n",
    "    z_m,z_u = args\n",
    "    return tf.multiply(z_m,z_u)\n",
    "    \n",
    "z = Lambda(inner_mult,output_shape=(latent_dim,))([z_m, z_u])\n",
    "print z\n",
    "\n",
    "decoder_h = Dense(semi_final_dim, activation='tanh')\n",
    "decoder_mean = Dense(final_dim, activation='sigmoid')\n",
    "h_decoded = decoder_h(z)\n",
    "x_decoded_mean = decoder_mean(h_decoded)\n",
    "print x_decoded_mean"
   ]
  },
  {
   "cell_type": "code",
   "execution_count": 31,
   "metadata": {
    "collapsed": true
   },
   "outputs": [],
   "source": [
    "#loss\n",
    "def vae_loss(y, x_decoded_mean):\n",
    "    xent_loss = objectives.binary_crossentropy(y, x_decoded_mean)\n",
    "    kl_loss = - 0.5 * K.mean(1 + z_log_var_m - K.square(z_mean_m) - K.exp(z_log_var_m), axis=-1) - 0.5 * K.mean(1 + z_log_var_u - K.square(z_mean_u) - K.exp(z_log_var_u), axis=-1)\n",
    "    return xent_loss + 0.1*kl_loss\n",
    "\n",
    "vae = Model([x_m,x_u], x_decoded_mean)\n",
    "vae.compile(optimizer='rmsprop', loss=vae_loss)"
   ]
  },
  {
   "cell_type": "code",
   "execution_count": 32,
   "metadata": {
    "collapsed": false
   },
   "outputs": [
    {
     "name": "stdout",
     "output_type": "stream",
     "text": [
      "[[ 1.  1.  0. ...,  1.  0.  0.]\n",
      " [ 0.  0.  0. ...,  0.  0.  1.]\n",
      " [ 1.  0.  0. ...,  0.  0.  0.]\n",
      " ..., \n",
      " [ 0.  0.  0. ...,  0.  0.  0.]\n",
      " [ 0.  0.  0. ...,  0.  0.  0.]\n",
      " [ 0.  0.  0. ...,  0.  0.  0.]]\n"
     ]
    }
   ],
   "source": [
    "X = np.zeros((M,N)) #datamatrix\n",
    "\n",
    "for k in range(len(ratings)):\n",
    "    i = ratings['movie_id'][k] - 1\n",
    "    j = ratings['user_id'][k] - 1\n",
    "    #transform original ratings to binary ratings\n",
    "    r = ratings['rating'][k]\n",
    "    if r > 3:\n",
    "        X[i,j] = 1\n",
    "    else:\n",
    "        X[i,j] = 0\n",
    "\n",
    "print X"
   ]
  },
  {
   "cell_type": "code",
   "execution_count": 33,
   "metadata": {
    "collapsed": false
   },
   "outputs": [
    {
     "name": "stdout",
     "output_type": "stream",
     "text": [
      "[[ 1.  1.  0. ...,  0.  0.  0.]\n",
      " [ 0.  1.  0. ...,  0.  0.  0.]\n",
      " [ 0.  0.  0. ...,  0.  0.  0.]\n",
      " ..., \n",
      " [ 0.  0.  0. ...,  0.  0.  0.]\n",
      " [ 0.  0.  0. ...,  0.  0.  0.]\n",
      " [ 1.  0.  0. ...,  0.  0.  0.]]\n",
      "[[ 0.  0.  0. ...,  0.  0.  0.]\n",
      " [ 0.  0.  0. ...,  0.  0.  0.]\n",
      " [ 0.  0.  0. ...,  0.  0.  0.]\n",
      " ..., \n",
      " [ 1.  1.  0. ...,  0.  0.  0.]\n",
      " [ 0.  0.  0. ...,  0.  0.  0.]\n",
      " [ 0.  0.  0. ...,  0.  0.  0.]]\n",
      "[[ 0.]\n",
      " [ 0.]\n",
      " [ 0.]\n",
      " ..., \n",
      " [ 0.]\n",
      " [ 0.]\n",
      " [ 0.]]\n"
     ]
    }
   ],
   "source": [
    "X_m = np.zeros((len(ratings),N)) #datamatrix\n",
    "X_u = np.zeros((len(ratings),M)) #datamatrix\n",
    "y = np.zeros((len(ratings),1))\n",
    "\n",
    "for k in range(len(ratings)):\n",
    "    i = ratings['movie_id'][k] - 1\n",
    "    j = ratings['user_id'][k] - 1\n",
    "    #transform original ratings to binary ratings\n",
    "    r = ratings['rating'][k]\n",
    "    #X[i,j] = r\n",
    "    X_m[k] = X[i,:]\n",
    "    X_u[k] = X[:,j]\n",
    "    if r > 3:\n",
    "        y[k] = 1\n",
    "    else:\n",
    "        y[k] = 0\n",
    "\n",
    "print X_m\n",
    "print X_u\n",
    "print y"
   ]
  },
  {
   "cell_type": "code",
   "execution_count": 34,
   "metadata": {
    "collapsed": false
   },
   "outputs": [
    {
     "name": "stderr",
     "output_type": "stream",
     "text": [
      "/Users/semihakbayrak/anaconda/lib/python2.7/site-packages/ipykernel/__main__.py:5: UserWarning: The `nb_epoch` argument in `fit` has been renamed `epochs`.\n"
     ]
    },
    {
     "name": "stdout",
     "output_type": "stream",
     "text": [
      "Epoch 1/10\n",
      "15s - loss: 0.6800\n",
      "Epoch 2/10\n",
      "11s - loss: 0.6570\n",
      "Epoch 3/10\n",
      "11s - loss: 0.6458\n",
      "Epoch 4/10\n",
      "10s - loss: 0.6383\n",
      "Epoch 5/10\n",
      "12s - loss: 0.6351\n",
      "Epoch 6/10\n",
      "12s - loss: 0.6318\n",
      "Epoch 7/10\n",
      "12s - loss: 0.6285\n",
      "Epoch 8/10\n",
      "10s - loss: 0.6282\n",
      "Epoch 9/10\n",
      "10s - loss: 0.6249\n",
      "Epoch 10/10\n",
      "10s - loss: 0.6267\n"
     ]
    },
    {
     "data": {
      "text/plain": [
       "<keras.callbacks.History at 0x1269044d0>"
      ]
     },
     "execution_count": 34,
     "metadata": {},
     "output_type": "execute_result"
    }
   ],
   "source": [
    "vae.fit([X_m,X_u], y,\n",
    "        shuffle=True,\n",
    "        nb_epoch=nb_epoch,\n",
    "        batch_size=batch_size,\n",
    "        validation_data=None,verbose=2)"
   ]
  },
  {
   "cell_type": "code",
   "execution_count": 35,
   "metadata": {
    "collapsed": false
   },
   "outputs": [
    {
     "data": {
      "image/png": "[encoded data removed]",
      "text/plain": [
       "<matplotlib.figure.Figure at 0x120dd7e50>"
      ]
     },
     "metadata": {},
     "output_type": "display_data"
    }
   ],
   "source": [
    "encoder_u = Model(x_u, z_mean_u)\n",
    "encoder_m = Model(x_m, z_mean_m)\n",
    "\n",
    "x_test_encoded_u = encoder_u.predict(X_u, batch_size=batch_size)\n",
    "x_test_encoded_m = encoder_m.predict(X_m, batch_size=batch_size)\n",
    "decoder_input = Input(shape=(latent_dim,))\n",
    "_h_decoded = decoder_h(decoder_input)\n",
    "_x_decoded_mean = decoder_mean(_h_decoded)\n",
    "generator = Model(decoder_input, _x_decoded_mean)\n",
    "\n",
    "Data_show = R[3:20,5:16] \n",
    "\n",
    "for i in range(17):\n",
    "    for j in range(11):\n",
    "        if np.isnan(Data_show[i,j]):\n",
    "            x_decoded = np.multiply(x_test_encoded_m[i+3],x_test_encoded_u[j+5])\n",
    "            x_decoded = x_decoded.reshape(1,latent_dim)\n",
    "            Data_show[i,j] = generator.predict(x_decoded)\n",
    "\n",
    "plt.imshow(R[3:20,5:16], interpolation='nearest',vmax=1,vmin=0)\n",
    "plt.colorbar()\n",
    "plt.set_cmap('jet')\n",
    "plt.xlabel('Users')\n",
    "plt.ylabel('Movies')\n",
    "plt.show()"
   ]
  },
  {
   "cell_type": "code",
   "execution_count": null,
   "metadata": {
    "collapsed": true
   },
   "outputs": [],
   "source": []
  }
 ],
 "metadata": {
  "kernelspec": {
   "display_name": "Python [conda root]",
   "language": "python",
   "name": "conda-root-py"
  },
  "language_info": {
   "codemirror_mode": {
    "name": "ipython",
    "version": 2
   },
   "file_extension": ".py",
   "mimetype": "text/x-python",
   "name": "python",
   "nbconvert_exporter": "python",
   "pygments_lexer": "ipython2",
   "version": "2.7.12"
  }
 },
 "nbformat": 4,
 "nbformat_minor": 1
}
