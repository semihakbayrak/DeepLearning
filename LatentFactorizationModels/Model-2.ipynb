{
 "cells": [
  {
   "cell_type": "code",
   "execution_count": 1,
   "metadata": {
    "collapsed": false
   },
   "outputs": [
    {
     "name": "stderr",
     "output_type": "stream",
     "text": [
      "/Users/semihakbayrak/anaconda/lib/python2.7/site-packages/matplotlib/font_manager.py:273: UserWarning: Matplotlib is building the font cache using fc-list. This may take a moment.\n",
      "  warnings.warn('Matplotlib is building the font cache using fc-list. This may take a moment.')\n",
      "Using TensorFlow backend.\n"
     ]
    }
   ],
   "source": [
    "import numpy as np\n",
    "import matplotlib.pyplot as plt\n",
    "from scipy.stats import norm\n",
    "from keras.layers import Input, Dense, Lambda, multiply, concatenate, add\n",
    "from keras.models import Model\n",
    "from keras import backend as K\n",
    "from keras import objectives\n",
    "from keras import optimizers\n",
    "from keras import regularizers\n",
    "from keras.datasets import mnist\n",
    "import pandas as pd\n",
    "import tensorflow as tf"
   ]
  },
  {
   "cell_type": "code",
   "execution_count": 2,
   "metadata": {
    "collapsed": true
   },
   "outputs": [],
   "source": [
    "# Initialize Keras with Tensorflow session\n",
    "sess = tf.Session()\n",
    "K.set_session(sess)"
   ]
  },
  {
   "cell_type": "code",
   "execution_count": 3,
   "metadata": {
    "collapsed": true
   },
   "outputs": [],
   "source": [
    "rnames = ['user_id', 'movie_id', 'rating', 'timestamp']\n",
    "ratings = pd.read_table('u5.base', sep='\\t', header=None, names=rnames)"
   ]
  },
  {
   "cell_type": "code",
   "execution_count": 4,
   "metadata": {
    "collapsed": true
   },
   "outputs": [],
   "source": [
    "M = 1682\n",
    "N = 943\n",
    "\n",
    "R = np.nan*np.ones((M,N))\n",
    "\n",
    "for k in range(len(ratings)):\n",
    "    i = ratings['movie_id'][k] - 1\n",
    "    j = ratings['user_id'][k] - 1\n",
    "    r = ratings['rating'][k]\n",
    "    R[i,j] = r"
   ]
  },
  {
   "cell_type": "code",
   "execution_count": 5,
   "metadata": {
    "collapsed": true
   },
   "outputs": [],
   "source": [
    "batch_size = None\n",
    "movie_in_dim = N\n",
    "user_in_dim = M\n",
    "latent_dim = 40\n",
    "intermediate_dim = 120\n",
    "semi_final_dim = 80\n",
    "final_dim = 1\n",
    "nb_epoch = 5\n",
    "epsilon_std = 1.0"
   ]
  },
  {
   "cell_type": "code",
   "execution_count": 6,
   "metadata": {
    "collapsed": true
   },
   "outputs": [],
   "source": [
    "#encoder\n",
    "x_m = Input(batch_shape=(batch_size, movie_in_dim))\n",
    "x_u = Input(batch_shape=(batch_size, user_in_dim))\n",
    "h_m = Dense(latent_dim, activation='relu', use_bias=True, kernel_initializer='random_uniform', bias_initializer='zeros')(x_m)\n",
    "h_u = Dense(latent_dim, activation='relu', use_bias=True, kernel_initializer='random_uniform', bias_initializer='zeros')(x_u)\n",
    "z_m = Dense(latent_dim, activation='linear', use_bias=True, kernel_initializer='random_uniform', bias_initializer='zeros')(h_m)\n",
    "z_u = Dense(latent_dim, activation='linear', use_bias=True, kernel_initializer='random_uniform', bias_initializer='zeros')(h_u)"
   ]
  },
  {
   "cell_type": "code",
   "execution_count": 7,
   "metadata": {
    "collapsed": false
   },
   "outputs": [
    {
     "name": "stdout",
     "output_type": "stream",
     "text": [
      "Tensor(\"lambda_1/Mul:0\", shape=(?, 40), dtype=float32)\n",
      "Tensor(\"dense_8/BiasAdd:0\", shape=(?, 1), dtype=float32)\n"
     ]
    }
   ],
   "source": [
    "#decoder\n",
    "def inner_mult(args):\n",
    "    z_m,z_u = args\n",
    "    return tf.multiply(z_m,z_u)\n",
    "    \n",
    "z = Lambda(inner_mult,output_shape=(latent_dim,))([z_m, z_u])\n",
    "print z\n",
    "\n",
    "decoder_h1 = Dense(semi_final_dim, activation='relu', use_bias=True, kernel_initializer='random_uniform', bias_initializer='zeros')\n",
    "decoder_h2 = Dense(semi_final_dim, activation='relu', use_bias=True, kernel_initializer='random_uniform', bias_initializer='zeros')\n",
    "decoder_h3 = Dense(semi_final_dim/2, activation='relu', use_bias=True, kernel_initializer='random_uniform', bias_initializer='zeros')\n",
    "decoder_mean = Dense(final_dim, use_bias=True, kernel_initializer='random_uniform', bias_initializer='zeros')\n",
    "h_decoded1 = decoder_h1(z)\n",
    "h_decoded2 = decoder_h2(h_decoded1)\n",
    "h_decoded3 = decoder_h3(h_decoded2)\n",
    "x_decoded_mean = decoder_mean(h_decoded3)\n",
    "print x_decoded_mean"
   ]
  },
  {
   "cell_type": "code",
   "execution_count": 8,
   "metadata": {
    "collapsed": true
   },
   "outputs": [],
   "source": [
    "model = Model([x_m,x_u], x_decoded_mean)\n",
    "model.compile(optimizer='rmsprop', loss='mean_squared_error', lr=0.05)"
   ]
  },
  {
   "cell_type": "code",
   "execution_count": 9,
   "metadata": {
    "collapsed": true
   },
   "outputs": [],
   "source": [
    "X = np.zeros((M,N)) \n",
    "\n",
    "for k in range(len(ratings)):\n",
    "    i = ratings['movie_id'][k] - 1\n",
    "    j = ratings['user_id'][k] - 1\n",
    "    r = ratings['rating'][k]\n",
    "    X[i,j] = r"
   ]
  },
  {
   "cell_type": "code",
   "execution_count": 10,
   "metadata": {
    "collapsed": true
   },
   "outputs": [],
   "source": [
    "X_m = np.zeros((len(ratings),N)) \n",
    "X_u = np.zeros((len(ratings),M)) \n",
    "y = np.zeros((len(ratings),1))\n",
    "\n",
    "for k in range(len(ratings)):\n",
    "    i = ratings['movie_id'][k] - 1\n",
    "    j = ratings['user_id'][k] - 1\n",
    "    r = ratings['rating'][k]\n",
    "    X_m[k] = X[i,:]\n",
    "    X_u[k] = X[:,j]\n",
    "    y[k] = r\n",
    "    X_m[k,j] = 0\n",
    "    X_u[k,i] = 0"
   ]
  },
  {
   "cell_type": "code",
   "execution_count": 11,
   "metadata": {
    "collapsed": false
   },
   "outputs": [
    {
     "name": "stderr",
     "output_type": "stream",
     "text": [
      "/Users/semihakbayrak/anaconda/lib/python2.7/site-packages/ipykernel/__main__.py:5: UserWarning: The `nb_epoch` argument in `fit` has been renamed `epochs`.\n",
      "/Users/semihakbayrak/anaconda/lib/python2.7/site-packages/keras/backend/tensorflow_backend.py:2124: UserWarning: Expected no kwargs, you passed 1\n",
      "kwargs passed to function are ignored with Tensorflow backend\n",
      "  warnings.warn('\\n'.join(msg))\n"
     ]
    },
    {
     "name": "stdout",
     "output_type": "stream",
     "text": [
      "Epoch 1/5\n",
      "12s - loss: 1.4896\n",
      "Epoch 2/5\n",
      "9s - loss: 0.9277\n",
      "Epoch 3/5\n",
      "9s - loss: 0.8676\n",
      "Epoch 4/5\n",
      "9s - loss: 0.8389\n",
      "Epoch 5/5\n",
      "9s - loss: 0.8191\n"
     ]
    },
    {
     "data": {
      "text/plain": [
       "<keras.callbacks.History at 0x187266a90>"
      ]
     },
     "execution_count": 11,
     "metadata": {},
     "output_type": "execute_result"
    }
   ],
   "source": [
    "model.fit([X_m,X_u], y,\n",
    "        shuffle=True,\n",
    "        nb_epoch=nb_epoch,\n",
    "        batch_size=50,\n",
    "        validation_data=None,verbose=2)"
   ]
  },
  {
   "cell_type": "code",
   "execution_count": 12,
   "metadata": {
    "collapsed": true
   },
   "outputs": [],
   "source": [
    "X_m_test = np.zeros((M,N)) #datamatrix\n",
    "X_u_test = np.zeros((N,M)) #datamatrix\n",
    "\n",
    "for i in range(M):\n",
    "    X_m_test[i] = X[i,:]\n",
    "\n",
    "for i in range(N):\n",
    "    X_u_test[i] = X[:,i]"
   ]
  },
  {
   "cell_type": "code",
   "execution_count": 13,
   "metadata": {
    "collapsed": false
   },
   "outputs": [
    {
     "data": {
      "image/png": "[encoded data removed]",
      "text/plain": [
       "<matplotlib.figure.Figure at 0x187755ed0>"
      ]
     },
     "metadata": {},
     "output_type": "display_data"
    }
   ],
   "source": [
    "encoder_u = Model(x_u, z_u)\n",
    "encoder_m = Model(x_m, z_m)\n",
    "\n",
    "x_test_encoded_u = encoder_u.predict(X_u_test, batch_size=N)\n",
    "x_test_encoded_m = encoder_m.predict(X_m_test, batch_size=M)\n",
    "decoder_input = Input(shape=(latent_dim,))\n",
    "_h_decoded1 = decoder_h1(decoder_input)\n",
    "_h_decoded2 = decoder_h2(_h_decoded1)\n",
    "_h_decoded3 = decoder_h3(_h_decoded2)\n",
    "_x_decoded_mean = decoder_mean(_h_decoded3)\n",
    "generator = Model(decoder_input, _x_decoded_mean)\n",
    "\n",
    "Data_show = R[3:20,5:16]\n",
    "\n",
    "for i in range(17):\n",
    "    for j in range(11):\n",
    "        x_decoded = np.multiply(x_test_encoded_m[i+3],x_test_encoded_u[j+5])\n",
    "        x_decoded = x_decoded.reshape(1,latent_dim)\n",
    "        Data_show[i,j] = generator.predict(x_decoded)\n",
    "\n",
    "plt.imshow(R[3:20,5:16], interpolation='nearest',vmax=5,vmin=1)\n",
    "plt.colorbar()\n",
    "plt.set_cmap('jet')\n",
    "plt.xlabel('Users')\n",
    "plt.ylabel('Movies')\n",
    "plt.show()"
   ]
  },
  {
   "cell_type": "code",
   "execution_count": 14,
   "metadata": {
    "collapsed": true
   },
   "outputs": [],
   "source": [
    "rnames = ['user_id', 'movie_id', 'rating', 'timestamp']\n",
    "ratings_test = pd.read_table('u5.test', sep='\\t', header=None, names=rnames)"
   ]
  },
  {
   "cell_type": "code",
   "execution_count": 15,
   "metadata": {
    "collapsed": false
   },
   "outputs": [
    {
     "name": "stdout",
     "output_type": "stream",
     "text": [
      "0.40035\n",
      "0.923333222086\n",
      "0.739427017653\n"
     ]
    }
   ],
   "source": [
    "count = 0\n",
    "accurate = 0\n",
    "rmse = 0\n",
    "mae = 0\n",
    "for k in range(len(ratings_test)):\n",
    "    i = ratings_test['movie_id'][k] - 1\n",
    "    j = ratings_test['user_id'][k] - 1\n",
    "    r = ratings_test['rating'][k]\n",
    "    #print \"real: \" + str(r)\n",
    "    x_d = np.multiply(x_test_encoded_m[i],x_test_encoded_u[j])\n",
    "    x_d = x_d.reshape(1,latent_dim)\n",
    "    pred = generator.predict(x_d)[0][0]\n",
    "    rmse = rmse + (pred-r)**2\n",
    "    mae = mae + np.absolute(pred-r)\n",
    "    pred_rounded = int(round(pred))\n",
    "    count = count + 1\n",
    "    if pred_rounded == r:\n",
    "        accurate = accurate + 1\n",
    "    #print pred_rounded\n",
    "accuracy = 1.0*accurate/count\n",
    "print accuracy\n",
    "rmse = np.sqrt(rmse/count)\n",
    "print rmse\n",
    "mae = mae/count\n",
    "print mae"
   ]
  },
  {
   "cell_type": "code",
   "execution_count": null,
   "metadata": {
    "collapsed": true
   },
   "outputs": [],
   "source": []
  }
 ],
 "metadata": {
  "kernelspec": {
   "display_name": "Python [conda root]",
   "language": "python",
   "name": "conda-root-py"
  },
  "language_info": {
   "codemirror_mode": {
    "name": "ipython",
    "version": 2
   },
   "file_extension": ".py",
   "mimetype": "text/x-python",
   "name": "python",
   "nbconvert_exporter": "python",
   "pygments_lexer": "ipython2",
   "version": "2.7.12"
  }
 },
 "nbformat": 4,
 "nbformat_minor": 1
}
