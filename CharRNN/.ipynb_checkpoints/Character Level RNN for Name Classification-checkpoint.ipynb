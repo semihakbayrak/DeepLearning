{
 "cells": [
  {
   "cell_type": "code",
   "execution_count": 1,
   "metadata": {},
   "outputs": [],
   "source": [
    "using Flux, LinearAlgebra, Random"
   ]
  },
  {
   "cell_type": "markdown",
   "metadata": {},
   "source": [
    "# Preprocessing"
   ]
  },
  {
   "cell_type": "code",
   "execution_count": 2,
   "metadata": {},
   "outputs": [],
   "source": [
    "#collect all the characters appear in the dataset\n",
    "chars = []\n",
    "#iterator\n",
    "for (root, dirs, files) in walkdir(String(@__DIR__)*\"/data/names\")\n",
    "    for file in files\n",
    "        names = readlines(joinpath(root, file))\n",
    "        for name in names\n",
    "            chars = [chars;collect(lowercase(name))]\n",
    "        end\n",
    "        chars = [chars;collect(String(read(joinpath(root, file))))]\n",
    "    end\n",
    "end"
   ]
  },
  {
   "cell_type": "code",
   "execution_count": 3,
   "metadata": {},
   "outputs": [],
   "source": [
    "alphabet = [unique(chars)..., '_']; #unique characters form the alphabet"
   ]
  },
  {
   "cell_type": "code",
   "execution_count": 4,
   "metadata": {},
   "outputs": [],
   "source": [
    "#get all the categories from the name of text files\n",
    "categories = readdir(String(@__DIR__)*\"/data/names\")\n",
    "for i=1:length(categories)\n",
    "    category = categories[i][1:end-4]\n",
    "    categories[i] = category\n",
    "end"
   ]
  },
  {
   "cell_type": "code",
   "execution_count": 5,
   "metadata": {},
   "outputs": [],
   "source": [
    "#create a dictionary with category names as keys and names in array format as values\n",
    "category_lines = Dict()\n",
    "for category in categories\n",
    "    category_lines[category] = lowercase.(readlines(joinpath(String(@__DIR__)*\"/data/names\", category*\".txt\")))\n",
    "end"
   ]
  },
  {
   "cell_type": "code",
   "execution_count": 6,
   "metadata": {},
   "outputs": [],
   "source": [
    "#transform dataset into pairs with onehot encoded inputs and outputs\n",
    "data = []\n",
    "for category in categories\n",
    "    names = category_lines[category]\n",
    "    for name in names\n",
    "        (x,y) = (Flux.onehotbatch(name,alphabet),Flux.onehot(category,categories))\n",
    "        push!(data,(x,y))\n",
    "    end\n",
    "end\n",
    "trainset = shuffle(data)[1:15000];\n",
    "testset = shuffle(data)[15001:end];"
   ]
  },
  {
   "cell_type": "markdown",
   "metadata": {},
   "source": [
    "# Build RNN"
   ]
  },
  {
   "cell_type": "code",
   "execution_count": 7,
   "metadata": {},
   "outputs": [],
   "source": [
    "struct RNNmodel\n",
    "    Wxh\n",
    "    Wo\n",
    "    bxh\n",
    "    bo\n",
    "end\n",
    "\n",
    "RNNmodel(in::Integer, hidden::Integer, out::Integer) =\n",
    "  RNNmodel(param(randn(hidden, in+hidden)./100), param(randn(out, in+hidden)./100), \n",
    "    param(randn(hidden)./100), param(randn(out)./100))\n",
    "\n",
    "function (rnn::RNNmodel)(x,h)\n",
    "    h_affine = rnn.Wxh * vcat(x,h) .+ rnn.bxh\n",
    "    o_affine = rnn.Wo * vcat(x,h) .+ rnn.bo\n",
    "    return (tanh.(h_affine), softmax(o_affine))\n",
    "end"
   ]
  },
  {
   "cell_type": "code",
   "execution_count": 8,
   "metadata": {},
   "outputs": [
    {
     "data": {
      "text/plain": [
       "Tracked 18-element Array{Float64,1}:\n",
       " 0.05933923887513576 \n",
       " 0.055724892966194275\n",
       " 0.04914517767388216 \n",
       " 0.05749802498883375 \n",
       " 0.05156896960664484 \n",
       " 0.054879248122913823\n",
       " 0.04653966449042874 \n",
       " 0.05478175184326987 \n",
       " 0.05273678456669417 \n",
       " 0.061118863263577704\n",
       " 0.05811884706231737 \n",
       " 0.0565279832219866  \n",
       " 0.06679124091890422 \n",
       " 0.05888569604275681 \n",
       " 0.06256484007959731 \n",
       " 0.044151697896476105\n",
       " 0.052431238695839086\n",
       " 0.057195839684547285"
      ]
     },
     "execution_count": 8,
     "metadata": {},
     "output_type": "execute_result"
    }
   ],
   "source": [
    "r_model = RNNmodel(90,128,18)\n",
    "r_model(rand(90),rand(128))[2] #example output"
   ]
  },
  {
   "cell_type": "code",
   "execution_count": 9,
   "metadata": {},
   "outputs": [],
   "source": [
    "loss(y_est,y_real) = Flux.crossentropy(y_est,y_real) #loss function\n",
    "opt = ADAM(0.001) #ADAM optimizer is defined\n",
    "ps = (r_model.Wxh,r_model.Wo,r_model.bxh,r_model.bo); #model parameters"
   ]
  },
  {
   "cell_type": "code",
   "execution_count": 10,
   "metadata": {},
   "outputs": [],
   "source": [
    "#online training\n",
    "θ = Flux.Params([r_model.Wxh,r_model.Wo,r_model.bxh,r_model.bo])\n",
    "for epoch=1:100\n",
    "    instances = shuffle(collect(1:15000))[1:1000]\n",
    "    #for (x,y) in dataset\n",
    "    for i in instances\n",
    "        (x,y) = trainset[i]\n",
    "        global hidden = zeros(128)\n",
    "        for s=1:size(x)[2]\n",
    "            global out\n",
    "            (hidden,out) = r_model(float(x[:,s]),hidden)\n",
    "        end\n",
    "        grads = Tracker.gradient(() -> loss(out,y), θ)\n",
    "        for p in (r_model.Wxh,r_model.Wo,r_model.bxh,r_model.bo)\n",
    "            Tracker.update!(opt, p, grads[p])\n",
    "        end\n",
    "    end\n",
    "end"
   ]
  },
  {
   "cell_type": "code",
   "execution_count": 11,
   "metadata": {},
   "outputs": [
    {
     "name": "stdout",
     "output_type": "stream",
     "text": [
      "0.7676666666666667\n"
     ]
    }
   ],
   "source": [
    "#accuracy in training set\n",
    "count_true, count_false = 0.0, 0.0\n",
    "for (x,y) in trainset\n",
    "    global hidden = zeros(128)\n",
    "    for s=1:size(x)[2]\n",
    "        global out\n",
    "        (hidden,out) = r_model(float(x[:,s]),hidden)\n",
    "    end\n",
    "    if argmax(out) == argmax(y)\n",
    "        count_true += 1\n",
    "    else\n",
    "        count_false += 1\n",
    "    end\n",
    "end\n",
    "println(count_true/(count_true+count_false))"
   ]
  },
  {
   "cell_type": "code",
   "execution_count": 12,
   "metadata": {},
   "outputs": [
    {
     "name": "stdout",
     "output_type": "stream",
     "text": [
      "0.7658651951123374\n"
     ]
    }
   ],
   "source": [
    "#accuracy in test set\n",
    "count_true, count_false = 0.0, 0.0\n",
    "for (x,y) in testset\n",
    "    global hidden = zeros(128)\n",
    "    for s=1:size(x)[2]\n",
    "        global out\n",
    "        (hidden,out) = r_model(float(x[:,s]),hidden)\n",
    "    end\n",
    "    if argmax(out) == argmax(y)\n",
    "        count_true += 1\n",
    "    else\n",
    "        count_false += 1\n",
    "    end\n",
    "end\n",
    "println(count_true/(count_true+count_false))"
   ]
  },
  {
   "cell_type": "code",
   "execution_count": 13,
   "metadata": {},
   "outputs": [
    {
     "data": {
      "text/plain": [
       "classify_name (generic function with 1 method)"
      ]
     },
     "execution_count": 13,
     "metadata": {},
     "output_type": "execute_result"
    }
   ],
   "source": [
    "function classify_name(name::String)\n",
    "    name_hot = Flux.onehotbatch(lowercase(name),alphabet)\n",
    "    global hidden = zeros(128)\n",
    "    for s=1:size(name_hot)[2]\n",
    "        global out\n",
    "        (hidden,out) = r_model(float(name_hot[:,s]),hidden)\n",
    "    end\n",
    "    return categories[argmax(out)]\n",
    "end"
   ]
  },
  {
   "cell_type": "code",
   "execution_count": 36,
   "metadata": {},
   "outputs": [
    {
     "name": "stdout",
     "output_type": "stream",
     "text": [
      "Russian\n",
      "German\n",
      "Czech\n",
      "Arabic\n",
      "German\n",
      "Chinese\n",
      "Italian\n",
      "English\n",
      "German\n"
     ]
    }
   ],
   "source": [
    "println(classify_name(\"Lewandowski\"))\n",
    "println(classify_name(\"Müller\"))\n",
    "println(classify_name(\"Czech\"))\n",
    "println(classify_name(\"Harari\"))\n",
    "println(classify_name(\"De Boer\"))\n",
    "println(classify_name(\"Ziu\"))\n",
    "println(classify_name(\"Albertini\"))\n",
    "println(classify_name(\"Jackson\"))\n",
    "println(classify_name(\"Gonzalez\"))"
   ]
  },
  {
   "cell_type": "code",
   "execution_count": null,
   "metadata": {},
   "outputs": [],
   "source": []
  }
 ],
 "metadata": {
  "@webio": {
   "lastCommId": null,
   "lastKernelId": null
  },
  "kernelspec": {
   "display_name": "Julia 1.2.0-rc1",
   "language": "julia",
   "name": "julia-1.2"
  },
  "language_info": {
   "file_extension": ".jl",
   "mimetype": "application/julia",
   "name": "julia",
   "version": "1.2.0"
  }
 },
 "nbformat": 4,
 "nbformat_minor": 2
}
